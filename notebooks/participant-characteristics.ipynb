{
 "cells": [
  {
   "cell_type": "code",
   "execution_count": null,
   "id": "2ca63227-5478-4d4f-8f82-27b662867a9b",
   "metadata": {},
   "outputs": [],
   "source": [
    "import pandas as pd\n",
    "import numpy as np\n",
    "import statsmodels.api as sm\n",
    "from collections import Counter, defaultdict\n",
    "from scipy import stats"
   ]
  },
  {
   "cell_type": "markdown",
   "id": "c3032444-811c-42c2-9e72-46da900c0875",
   "metadata": {},
   "source": [
    "# Load"
   ]
  },
  {
   "cell_type": "code",
   "execution_count": null,
   "id": "e627c42f-75cc-46cd-ad81-51ce59b4d117",
   "metadata": {},
   "outputs": [],
   "source": [
    "ship_df = pd.read_parquet('SHIP.parquet.gzip')"
   ]
  },
  {
   "cell_type": "code",
   "execution_count": null,
   "id": "5788572c-5b51-4776-885b-da465c2a208e",
   "metadata": {},
   "outputs": [],
   "source": [
    "ship_df.head()"
   ]
  },
  {
   "cell_type": "code",
   "execution_count": null,
   "id": "a952c66e-fd5f-4fa8-8815-974b28c95a50",
   "metadata": {},
   "outputs": [],
   "source": [
    "ukb_df = pd.read_parquet('ECG.orig_val.parquet.gzip')"
   ]
  },
  {
   "cell_type": "code",
   "execution_count": null,
   "id": "962d9607-21cc-4887-ae0b-8ac6a7410718",
   "metadata": {},
   "outputs": [],
   "source": [
    "ukb_df.head()"
   ]
  },
  {
   "cell_type": "markdown",
   "id": "7391549b-2054-4ce8-a1de-c7c2b3b407e4",
   "metadata": {},
   "source": [
    "# Compare"
   ]
  },
  {
   "cell_type": "code",
   "execution_count": null,
   "id": "0a8dddda-fe11-42ea-82d6-1c64ebeae113",
   "metadata": {},
   "outputs": [],
   "source": [
    "ukb_df.describe()"
   ]
  },
  {
   "cell_type": "code",
   "execution_count": null,
   "id": "050d5a0f-74fb-4179-b97d-705029fbcf9c",
   "metadata": {},
   "outputs": [],
   "source": [
    "ship_df.describe()"
   ]
  },
  {
   "cell_type": "code",
   "execution_count": null,
   "id": "e199a0f3-52f0-4735-b0d0-9c556517fddf",
   "metadata": {},
   "outputs": [],
   "source": [
    "num_cols = ['LVM', 'indexed.LVM', 'Av_SBP', 'Av_DBP', 'Age', 'BMI', 'non.hdl.chol', 'total.chol', 'Ventricular_rate']\n",
    "cat_cols = ['htn.defined', 'Sex', 'diabetes_final', 'chol_final', 'alcohol.status', 'smoking.status', 'ethnicity']"
   ]
  },
  {
   "cell_type": "code",
   "execution_count": null,
   "id": "eda0fec5-db40-40d8-996d-a4cfde24f452",
   "metadata": {},
   "outputs": [],
   "source": [
    "def _contingency_table(xs, ys):\n",
    "    df1 = pd.DataFrame.from_dict(Counter(xs), orient='index', columns=['Count1'])\n",
    "    df2 = pd.DataFrame.from_dict(Counter(ys), orient='index', columns=['Count2'])\n",
    "    return df1.merge(df2, left_index=True, right_index=True, how='outer').fillna(0)"
   ]
  },
  {
   "cell_type": "code",
   "execution_count": null,
   "id": "e85a4b83-1235-433e-bd2d-c2cb19da3360",
   "metadata": {},
   "outputs": [],
   "source": [
    "recs = []\n",
    "\n",
    "cat_cols_v = set()\n",
    "samples = defaultdict(lambda: defaultdict(lambda: defaultdict()))\n",
    "for group in ship_df['LVM.group'].unique():\n",
    "    ship_lvm_df = ship_df[ship_df['LVM.group'] == group]\n",
    "    ukb_lvm_df = ukb_df[ukb_df['LVM.group'] == group]\n",
    "    for num_col in num_cols:\n",
    "        ship_col = ship_lvm_df[num_col]\n",
    "        ukb_col = ukb_lvm_df[num_col]\n",
    "        ship_mean, ship_std = ship_col.agg(['median', 'std'])\n",
    "        ukb_mean, ukb_std = ukb_col.agg(['median', 'std'])\n",
    "        t_stat, p_val = stats.ttest_ind(ship_col, ukb_col, equal_var=False, nan_policy='omit')\n",
    "        samples['ukb'][num_col][group] = ukb_col\n",
    "        samples['ship'][num_col][group] = ship_col\n",
    "        recs.append([num_col, None, group, ukb_mean, ukb_std, ship_mean, ship_std, t_stat, p_val])\n",
    "    \n",
    "    for cat_col in cat_cols:\n",
    "        ship_col = ship_lvm_df[cat_col]\n",
    "        ukb_col = ukb_lvm_df[cat_col]\n",
    "        all_values = np.sort(np.unique(np.hstack([ship_col.unique(), ukb_col.unique()])))\n",
    "        for v in all_values:\n",
    "            stat, p = None, None\n",
    "            ship_col_v = (ship_col == v).astype(int)\n",
    "            ukb_col_v = (ukb_col == v).astype(int)\n",
    "            samples['ukb'][f\"{cat_col}_{v}\"][group] = ukb_col_v\n",
    "            samples['ship'][f\"{cat_col}_{v}\"][group] = ship_col_v\n",
    "            cat_cols_v.add(f\"{cat_col}_{v}\")\n",
    "            if np.isnan(v): \n",
    "                continue\n",
    "            else:\n",
    "                tbl = _contingency_table(ship_col_v, ukb_col_v)\n",
    "                if tbl.shape[0] > 1:\n",
    "                    stat, p = stats.fisher_exact(tbl)\n",
    "            recs.append([cat_col, v, group, ukb_col_v.sum(), 100*ukb_col_v.sum()/ukb_col.shape[0], ship_col_v.sum(), 100*ship_col_v.sum()/ship_col.shape[0], stat, p])"
   ]
  },
  {
   "cell_type": "code",
   "execution_count": null,
   "id": "c117a47f-066f-4588-8ff5-ca09e921167a",
   "metadata": {},
   "outputs": [],
   "source": [
    "for k, s in samples.items():\n",
    "    for num_col in num_cols:\n",
    "        stat, p = stats.ttest_ind(s[num_col][1], s[num_col][2], equal_var=False, nan_policy='omit')\n",
    "        print(k, num_col, p)\n",
    "    for cat_col_v in cat_cols_v:\n",
    "        try:\n",
    "            tbl = _contingency_table(s[cat_col_v][1], s[cat_col_v][2])\n",
    "            if tbl.shape[0] > 1:\n",
    "                stat, p = stats.fisher_exact(tbl)\n",
    "                print(k, cat_col_v, p)\n",
    "        except:\n",
    "            pass"
   ]
  },
  {
   "cell_type": "code",
   "execution_count": null,
   "id": "716beca0-4565-4ecb-ac92-842b094d7a67",
   "metadata": {},
   "outputs": [],
   "source": [
    "summ_df = pd.DataFrame(recs, columns=['Col', 'Value', 'LVM.group', 'UKB_N/Med', 'UKB_Perc/SD', 'SHIP_N/Med', 'SHIP_Perc/SD', 'stat', 'pvalue'])\n",
    "summ_df['pvalue_str'] = summ_df['pvalue'].apply(lambda x: '< 0.001' if x < 0.001 else str(np.round(x, 5)))\n",
    "summ_df['LVM.group'] = summ_df['LVM.group'].apply(lambda x: 'LVH' if x == 1 else 'Normal')\n",
    "summ_df.sort_values(by=['Col','LVM.group'])"
   ]
  },
  {
   "attachments": {
    "008a9904-b202-43e2-a4e0-91d5f87e8577.png": {
     "image/png": "[encoded data removed]"
    }
   },
   "cell_type": "markdown",
   "id": "97633418-2045-4587-8a37-bbbc970b1ee5",
   "metadata": {},
   "source": [
    "![image.png](attachment:008a9904-b202-43e2-a4e0-91d5f87e8577.png)"
   ]
  },
  {
   "cell_type": "code",
   "execution_count": null,
   "id": "97f48986-6fcf-4742-b910-815775695f8b",
   "metadata": {},
   "outputs": [],
   "source": [
    "for col in ['diabetes_final', 'chol_final', 'ethnicity','alcohol.status', 'smoking.status',  ]:\n",
    "    print('> ', col)\n",
    "    print(ship_df[col].value_counts())\n",
    "    print(ukb_df[col].value_counts())\n",
    "    print()"
   ]
  },
  {
   "cell_type": "markdown",
   "id": "3491431b-9103-47db-81d1-194b8d683ba0",
   "metadata": {},
   "source": [
    "---"
   ]
  },
  {
   "cell_type": "code",
   "execution_count": null,
   "id": "304e9989-c807-463b-b426-4394716c37ad",
   "metadata": {},
   "outputs": [],
   "source": [
    "recs = []\n",
    "\n",
    "cat_cols_v = set()\n",
    "samples = defaultdict(lambda: defaultdict())\n",
    "for num_col in num_cols:\n",
    "    ship_col = ship_df[num_col]\n",
    "    ukb_col = ukb_df[num_col]\n",
    "    ship_mean, ship_std = ship_col.agg(['median', 'std'])\n",
    "    ukb_mean, ukb_std = ukb_col.agg(['median', 'std'])\n",
    "    t_stat, p_val = stats.ttest_ind(ship_col, ukb_col, equal_var=False, nan_policy='omit')\n",
    "    samples['ukb'][num_col] = ukb_col\n",
    "    samples['ship'][num_col] = ship_col\n",
    "    recs.append([num_col, None, ukb_mean, ukb_std, ship_mean, ship_std, t_stat, p_val])\n",
    "\n",
    "for cat_col in cat_cols:\n",
    "    ship_col = ship_df[cat_col]\n",
    "    ukb_col = ukb_df[cat_col]\n",
    "    all_values = np.sort(np.unique(np.hstack([ship_col.unique(), ukb_col.unique()])))\n",
    "    for v in all_values:\n",
    "        stat, p = None, None\n",
    "        ship_col_v = (ship_col == v).astype(int)\n",
    "        ukb_col_v = (ukb_col == v).astype(int)\n",
    "        samples['ukb'][f\"{cat_col}_{v}\"] = ukb_col_v\n",
    "        samples['ship'][f\"{cat_col}_{v}\"] = ship_col_v\n",
    "        cat_cols_v.add(f\"{cat_col}_{v}\")\n",
    "        if np.isnan(v): \n",
    "            continue\n",
    "        else:\n",
    "            tbl = _contingency_table(ship_col_v, ukb_col_v)\n",
    "            if tbl.shape[0] > 1:\n",
    "                stat, p = stats.fisher_exact(tbl)\n",
    "        recs.append([cat_col, v, ukb_col_v.sum(), 100*ukb_col_v.sum()/ukb_col.shape[0], ship_col_v.sum(), 100*ship_col_v.sum()/ship_col.shape[0], stat, p])"
   ]
  },
  {
   "cell_type": "code",
   "execution_count": null,
   "id": "609b788e-dcee-4ea2-8344-ea660d7104be",
   "metadata": {},
   "outputs": [],
   "source": [
    "for k, s in samples.items():\n",
    "    for num_col in num_cols:\n",
    "        stat, p = stats.ttest_ind(s[num_col][1], s[num_col][2], equal_var=False, nan_policy='omit')\n",
    "        print(k, num_col, p)\n",
    "    for cat_col_v in cat_cols_v:\n",
    "        try:\n",
    "            tbl = _contingency_table(s[cat_col_v][1], s[cat_col_v][2])\n",
    "            if tbl.shape[0] > 1:\n",
    "                stat, p = stats.fisher_exact(tbl)\n",
    "                print(k, cat_col_v, p)\n",
    "        except:\n",
    "            pass"
   ]
  },
  {
   "cell_type": "code",
   "execution_count": null,
   "id": "484877df-df7b-43c3-9cbd-ccf5336bde5f",
   "metadata": {},
   "outputs": [],
   "source": [
    "summ_df = pd.DataFrame(recs, columns=['Col', 'Value', 'UKB_N/Med', 'UKB_Perc/SD', 'SHIP_N/Med', 'SHIP_Perc/SD', 'stat', 'pvalue'])\n",
    "summ_df['pvalue_str'] = summ_df['pvalue'].apply(lambda x: '< 0.001' if x < 0.001 else str(np.round(x, 5)))\n",
    "summ_df.sort_values(by=['Col'])"
   ]
  },
  {
   "cell_type": "code",
   "execution_count": null,
   "id": "0e539621-ddf5-4dc3-8231-d29140e1601e",
   "metadata": {},
   "outputs": [],
   "source": [
    "for col in ['Sex', 'ethnicity', 'diabetes_final', 'chol_final', 'ethnicity','alcohol.status', 'smoking.status',  ]:\n",
    "    print('> ', col)\n",
    "    print(ship_df[col].value_counts())\n",
    "    print(ship_df[col].value_counts()/ship_df.shape[0])\n",
    "    print(ukb_df[col].value_counts())\n",
    "    print(ukb_df[col].value_counts()/ukb_df.shape[0])\n",
    "    print()"
   ]
  }
 ],
 "metadata": {
  "kernelspec": {
   "display_name": "ecg-lv",
   "language": "python",
   "name": "ecg-lv"
  },
  "language_info": {
   "codemirror_mode": {
    "name": "ipython",
    "version": 3
   },
   "file_extension": ".py",
   "mimetype": "text/x-python",
   "name": "python",
   "nbconvert_exporter": "python",
   "pygments_lexer": "ipython3",
   "version": "3.11.11"
  }
 },
 "nbformat": 4,
 "nbformat_minor": 5
}
