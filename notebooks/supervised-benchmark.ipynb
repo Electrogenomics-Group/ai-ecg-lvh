{
 "cells": [
  {
   "cell_type": "code",
   "execution_count": null,
   "id": "fbe246e8-439a-45b0-9d86-8a347c0d3593",
   "metadata": {},
   "outputs": [],
   "source": [
    "import matplotlib.pyplot as plt\n",
    "import numpy as np\n",
    "import pandas as pd\n",
    "import seaborn as sns\n",
    "from collections import Counter\n",
    "from imblearn.under_sampling import RandomUnderSampler\n",
    "from sklearn.linear_model import LogisticRegression\n",
    "from sklearn.model_selection import GridSearchCV\n",
    "from sklearn.preprocessing import StandardScaler\n",
    "from sklearn.svm import SVC, LinearSVR, SVR\n",
    "from torch.utils.data import DataLoader"
   ]
  },
  {
   "cell_type": "code",
   "execution_count": null,
   "id": "28377e72-4d10-4279-99cb-8578ab40b57f",
   "metadata": {},
   "outputs": [],
   "source": [
    "import sys\n",
    "sys.path.append('..')\n",
    "from libs.eval import (\n",
    "    print_classification_performance_summary,\n",
    "    print_regression_performance_summary,\n",
    ")"
   ]
  },
  {
   "cell_type": "code",
   "execution_count": null,
   "id": "633dfa8a-7311-4362-8471-ea97a3ae5e60",
   "metadata": {},
   "outputs": [],
   "source": [
    "SEED = 240302\n",
    "np.random.seed(SEED)"
   ]
  },
  {
   "cell_type": "code",
   "execution_count": null,
   "id": "310ab4ee-2e7d-4dc0-9e64-e62d38d5da08",
   "metadata": {},
   "outputs": [],
   "source": [
    "def is_binary(series, allow_na=False):\n",
    "    if allow_na:\n",
    "        series.dropna(inplace=True)\n",
    "    return sorted(series.unique()) == [0, 1]\n",
    "\n",
    "def is_binary_cols(df, inv=False):\n",
    "    mask = df.apply(is_binary, axis=0)\n",
    "    if inv:\n",
    "        mask = ~mask\n",
    "    return df.iloc[:, np.argwhere(mask).flatten()].columns.tolist()\n",
    "\n",
    "def train_target(df, outcome='LVM.group'):\n",
    "    X, y = df.drop([outcome], axis=1), df[[outcome]]\n",
    "    return X, y[outcome].values"
   ]
  },
  {
   "cell_type": "code",
   "execution_count": null,
   "id": "21f09f4f-0d3e-4186-916e-8aa46c6231b0",
   "metadata": {},
   "outputs": [],
   "source": [
    "df = pd.read_parquet('ECG.orig_val.with_ecg.parquet.gzip')\n",
    "df['LVM.group'] = 2 - df['LVM.group']\n",
    "df = pd.concat([df.drop(columns='smoking.status'), pd.get_dummies(df['smoking.status'], prefix='smoking.status', drop_first=False).astype(int)], axis=1)\n",
    "df = df.merge(pd.read_parquet('ECG.orig_val.parquet.gzip')[['f.eid', 'indexed.LVM']], on='f.eid')"
   ]
  },
  {
   "cell_type": "code",
   "execution_count": null,
   "id": "56556bd6-2927-4916-bc87-0c207d112a12",
   "metadata": {},
   "outputs": [],
   "source": [
    "TRAIN_FEIDS = pd.read_csv('ukb_feids.train_split.list')['f.eid'].values\n",
    "VAL_FEIDS = pd.read_csv('ukb_feids.val_split.list')['f.eid'].values\n",
    "TEST_FEIDS = pd.read_csv('ukb_feids.test_split.list')['f.eid'].values"
   ]
  },
  {
   "cell_type": "code",
   "execution_count": null,
   "id": "210dde6b-47f2-44a3-8bfc-8ba63b31a932",
   "metadata": {},
   "outputs": [],
   "source": [
    "binary_cols = is_binary_cols(df)\n",
    "cont_cols = is_binary_cols(df, inv=True)\n",
    "cont_cols.remove('f.eid')\n",
    "cont_cols.remove('indexed.LVM')\n",
    "assert df.shape[1] == (len(binary_cols) + len(cont_cols) + 2) # Removed FEID/iLVM"
   ]
  },
  {
   "cell_type": "code",
   "execution_count": null,
   "id": "6a17bb23-5898-4d70-b21e-b926e5dc91b8",
   "metadata": {},
   "outputs": [],
   "source": [
    "results = {}"
   ]
  },
  {
   "cell_type": "markdown",
   "id": "ecc4b9c5-0145-400a-a916-5428d6e9e57f",
   "metadata": {},
   "source": [
    "# Benchmark (classification)"
   ]
  },
  {
   "cell_type": "code",
   "execution_count": null,
   "id": "efa5f22d-9709-4e73-a41b-e6997b13e979",
   "metadata": {},
   "outputs": [],
   "source": [
    "df_train = df[df['f.eid'].isin(TRAIN_FEIDS)].drop(columns=['f.eid', 'indexed.LVM'])\n",
    "df_val = df[df['f.eid'].isin(VAL_FEIDS)].drop(columns=['f.eid', 'indexed.LVM'])\n",
    "df_test = df[df['f.eid'].isin(TEST_FEIDS)]\n",
    "results['f.eid'] = df_test['f.eid'].values\n",
    "results['is_m'] = (df_test['Sex'] == 1).astype(int).values\n",
    "results['lvh_true'] = df_test['LVM.group'].values\n",
    "results['ilvm_true'] = df_test['indexed.LVM'].values\n",
    "df_test = df_test.drop(columns=['f.eid', 'indexed.LVM'])"
   ]
  },
  {
   "cell_type": "code",
   "execution_count": null,
   "id": "644813e7-4872-4108-9e0c-bf6a4a4f4062",
   "metadata": {},
   "outputs": [],
   "source": [
    "X_train, y_train = train_target(df_train, outcome='LVM.group')\n",
    "X_val, y_val = train_target(df_val, outcome='LVM.group')\n",
    "X_test, y_test = train_target(df_test, outcome='LVM.group')\n",
    "\n",
    "y_train_lvh = y_train.copy()\n",
    "y_val_lvh = y_val.copy()\n",
    "y_test_lvh = y_test.copy()"
   ]
  },
  {
   "cell_type": "code",
   "execution_count": null,
   "id": "fff6b0a9-29ca-4e9a-bef6-ee75d60cdb1c",
   "metadata": {},
   "outputs": [],
   "source": [
    "scaler = StandardScaler()\n",
    "scaler.fit(X_train[cont_cols])\n",
    "X_train[cont_cols] = scaler.transform(X_train[cont_cols])\n",
    "X_val[cont_cols] = scaler.transform(X_val[cont_cols])\n",
    "X_test[cont_cols] = scaler.transform(X_test[cont_cols])"
   ]
  },
  {
   "cell_type": "markdown",
   "id": "104d602f-d48a-44de-8bec-1ae9f90d4946",
   "metadata": {},
   "source": [
    "### Replication of Naderi et al. (2023)"
   ]
  },
  {
   "cell_type": "code",
   "execution_count": null,
   "id": "29e91f53-0397-44bc-bbbd-b532820a1f13",
   "metadata": {},
   "outputs": [],
   "source": [
    "sampler = RandomUnderSampler(sampling_strategy='not minority', random_state=SEED)\n",
    "X_train_under, y_train_under = sampler.fit_resample(X_train, y_train)"
   ]
  },
  {
   "cell_type": "code",
   "execution_count": null,
   "id": "8b54239c-79ca-41a6-9d99-c0e1281d20a8",
   "metadata": {},
   "outputs": [],
   "source": [
    "''' MATLAB model from Naderi et al. (2023)\n",
    " classificationSVM = fitcsvm(...\n",
    "    predictors, ...\n",
    "    response, ...\n",
    "    'KernelFunction', 'gaussian', ...\n",
    "    'PolynomialOrder', [], ...\n",
    "    'KernelScale', 43, ...\n",
    "    'BoxConstraint', 1, ...\n",
    "    'Standardize', true, ...\n",
    "    'ClassNames', [1; 2]);\n",
    "'''\n",
    "svm_clf = SVC(C=1, gamma='scale', kernel='rbf', probability=True, random_state=SEED)\n",
    "svm_clf.fit(X_train_under, y_train_under)\n",
    "\n",
    "y_pred_svm = svm_clf.predict(X_test)\n",
    "print(Counter(y_pred_svm))\n",
    "y_pred_svm_proba = svm_clf.predict_proba(X_test)\n",
    "\n",
    "_ = print_classification_performance_summary(y_test, y_pred_svm, y_pred_svm_proba[:, 1], multi_class=False)"
   ]
  },
  {
   "cell_type": "code",
   "execution_count": null,
   "id": "388f96a4-e10e-4a8c-bf46-ebcdf62c33cc",
   "metadata": {},
   "outputs": [],
   "source": [
    "results['lvh_proba'] = y_pred_svm_proba[:, 1]"
   ]
  },
  {
   "cell_type": "code",
   "execution_count": null,
   "id": "73d28f71-115b-427c-b8ab-705f2f3b9b77",
   "metadata": {},
   "outputs": [],
   "source": [
    "# Bayes-rule adjustment for prior in training set\n",
    "P_Y1 = np.mean(y_train)\n",
    "P_Y0 = 1 - P_Y1\n",
    "p_adjusted = (P_Y1 * y_pred_svm_proba[:, 1]) / (P_Y1 * y_pred_svm_proba[:, 1] + P_Y0 * (1 - y_pred_svm_proba[:, 1]))"
   ]
  },
  {
   "cell_type": "code",
   "execution_count": null,
   "id": "8838dcde-56bb-4a19-a981-74ad07118942",
   "metadata": {},
   "outputs": [],
   "source": [
    "results['lvh_proba_prioradj'] = p_adjusted"
   ]
  },
  {
   "cell_type": "markdown",
   "id": "cbcce109-d817-47f1-a263-354cc48a5aa2",
   "metadata": {},
   "source": [
    "### Re-optimised"
   ]
  },
  {
   "cell_type": "code",
   "execution_count": null,
   "id": "e25caf1c-54de-4009-ba38-6a758a5a1e09",
   "metadata": {},
   "outputs": [],
   "source": [
    "param_grid = {\n",
    "    'C': [0.1, 0.5, 1, 5, 10],\n",
    "    'kernel': ['linear', 'rbf', 'poly'],\n",
    "    'gamma': ['scale', 'auto']\n",
    "}\n",
    "\n",
    "svm_clf = SVC(probability=True, random_state=SEED)\n",
    "grid_search = GridSearchCV(svm_clf, param_grid, cv=5, n_jobs=-1)\n",
    "grid_search.fit(X_val, y_val)\n",
    "best_svm = grid_search.best_estimator_"
   ]
  },
  {
   "cell_type": "code",
   "execution_count": null,
   "id": "64771c49-2771-4a5b-b8a2-506ebbd1282b",
   "metadata": {},
   "outputs": [],
   "source": [
    "grid_search.best_params_"
   ]
  },
  {
   "cell_type": "code",
   "execution_count": null,
   "id": "f15f1778-b91c-435a-bfff-74c1d74046b8",
   "metadata": {},
   "outputs": [],
   "source": [
    "best_svm.fit(X_train_under, y_train_under)\n",
    "y_pred_svm = best_svm.predict(X_test)\n",
    "print(Counter(y_pred_svm))\n",
    "y_pred_svm_proba = best_svm.predict_proba(X_test)\n",
    "_ = print_classification_performance_summary(y_test, y_pred_svm, y_pred_svm_proba[:, 1], multi_class=False)"
   ]
  },
  {
   "cell_type": "markdown",
   "id": "a3db64aa-895b-4e1d-ae10-89b06c08aac4",
   "metadata": {},
   "source": [
    "### ECG-only"
   ]
  },
  {
   "cell_type": "code",
   "execution_count": null,
   "id": "a1d7ecc8-61c2-45fc-b8ed-2d7e2a921703",
   "metadata": {},
   "outputs": [],
   "source": [
    "ecg_cols = X_train.columns.values[12:-4]\n",
    "ecg_cols"
   ]
  },
  {
   "cell_type": "code",
   "execution_count": null,
   "id": "450bbe54-5a4e-476e-a749-4f4c6765ba54",
   "metadata": {},
   "outputs": [],
   "source": [
    "X_train_ecg_only = X_train[ecg_cols]\n",
    "X_val_ecg_only = X_val[ecg_cols]\n",
    "X_test_ecg_only = X_test[ecg_cols]"
   ]
  },
  {
   "cell_type": "code",
   "execution_count": null,
   "id": "811523a7-814c-4ffd-8ab6-6fc431a14627",
   "metadata": {},
   "outputs": [],
   "source": [
    "sampler = RandomUnderSampler(sampling_strategy='not minority', random_state=SEED)\n",
    "X_train_under_ecg_only, y_train_under_ecg_only = sampler.fit_resample(X_train_ecg_only, y_train)\n",
    "Counter(y_train_under)"
   ]
  },
  {
   "cell_type": "code",
   "execution_count": null,
   "id": "5762fcd4-f022-445b-ba03-84e1e3aa0c05",
   "metadata": {},
   "outputs": [],
   "source": [
    "svm_clf = SVC(C=1, gamma='scale', kernel='rbf', class_weight='balanced', probability=True, random_state=SEED)\n",
    "svm_clf.fit(X_train_under_ecg_only, y_train_under_ecg_only)\n",
    "\n",
    "y_pred_svm = svm_clf.predict(X_test_ecg_only)\n",
    "print(Counter(y_pred_svm))\n",
    "y_pred_svm_proba = svm_clf.predict_proba(X_test_ecg_only)\n",
    "\n",
    "_ = print_classification_performance_summary(y_test, y_pred_svm, y_pred_svm_proba[:, 1])"
   ]
  },
  {
   "cell_type": "code",
   "execution_count": null,
   "id": "b39a01cd-65f5-4a14-b5aa-6302df8d8ad1",
   "metadata": {},
   "outputs": [],
   "source": [
    "results['lvh_proba_ecgonly'] = y_pred_svm_proba[:, 1]"
   ]
  },
  {
   "cell_type": "markdown",
   "id": "94396d7c-0d3e-47e8-89e5-daebdd702275",
   "metadata": {},
   "source": [
    "# Benchmark (regression)"
   ]
  },
  {
   "cell_type": "code",
   "execution_count": null,
   "id": "db50ad26-733a-4e03-9dbe-f2172aecbe66",
   "metadata": {},
   "outputs": [],
   "source": [
    "df_train = df[df['f.eid'].isin(TRAIN_FEIDS)].drop(columns=['f.eid', 'LVM.group'])\n",
    "df_val = df[df['f.eid'].isin(VAL_FEIDS)].drop(columns=['f.eid', 'LVM.group'])\n",
    "df_test = df[df['f.eid'].isin(TEST_FEIDS)]\n",
    "df_test['f.eid'] = pd.Categorical(df_test['f.eid'], categories=results['f.eid'], ordered=True)\n",
    "df_test = df_test.sort_values('f.eid')\n",
    "df_test = df_test.drop(columns=['f.eid', 'LVM.group'])"
   ]
  },
  {
   "cell_type": "code",
   "execution_count": null,
   "id": "0069ac3b-e75f-4227-be96-a1f39825b5aa",
   "metadata": {},
   "outputs": [],
   "source": [
    "X_train, y_train = train_target(df_train, outcome='indexed.LVM')\n",
    "X_val, y_val = train_target(df_val, outcome='indexed.LVM')\n",
    "X_test, y_test = train_target(df_test, outcome='indexed.LVM')"
   ]
  },
  {
   "cell_type": "code",
   "execution_count": null,
   "id": "87219aed-1336-4e96-987e-f82c2c6efefb",
   "metadata": {},
   "outputs": [],
   "source": [
    "scaler = StandardScaler()\n",
    "scaler.fit(X_train[cont_cols])\n",
    "X_train[cont_cols] = scaler.transform(X_train[cont_cols])\n",
    "X_val[cont_cols] = scaler.transform(X_val[cont_cols])\n",
    "X_test[cont_cols] = scaler.transform(X_test[cont_cols])"
   ]
  },
  {
   "cell_type": "code",
   "execution_count": null,
   "id": "09a2fcfe-7a25-44ec-93cd-3ed5cc0244ea",
   "metadata": {},
   "outputs": [],
   "source": [
    "param_grid = {\n",
    "    'C': [0.1, 1, 10],\n",
    "    'epsilon': [0.01, 0.1, 0.5],\n",
    "    'kernel': ['linear', 'rbf'],\n",
    "    'gamma': ['scale', 'auto']\n",
    "}\n",
    "\n",
    "svm_reg = SVR() # 1GB\n",
    "grid_search = GridSearchCV(svm_reg, param_grid, cv=5, scoring='neg_mean_absolute_error', n_jobs=-1)\n",
    "grid_search.fit(X_val, y_val)\n",
    "best_svm = grid_search.best_estimator_"
   ]
  },
  {
   "cell_type": "code",
   "execution_count": null,
   "id": "8d6d6b30-1de8-419c-92e3-89c623a2e6c5",
   "metadata": {},
   "outputs": [],
   "source": [
    "grid_search.best_params_"
   ]
  },
  {
   "cell_type": "code",
   "execution_count": null,
   "id": "1190a1c0-fa16-4342-9df1-387d771a4dba",
   "metadata": {},
   "outputs": [],
   "source": [
    "best_svm.fit(X_train, y_train)\n",
    "y_pred_svr = best_svm.predict(X_test)\n",
    "print_regression_performance_summary(y_test, y_pred_svr)"
   ]
  },
  {
   "cell_type": "code",
   "execution_count": null,
   "id": "d96b1e1d-2b6e-406e-8f3b-f4eee1ee5626",
   "metadata": {},
   "outputs": [],
   "source": [
    "results['ilvm_pred'] = y_pred_svr"
   ]
  },
  {
   "cell_type": "code",
   "execution_count": null,
   "id": "bdf1761e-c52e-4c0d-bdd5-3913a24ceeca",
   "metadata": {},
   "outputs": [],
   "source": [
    "results['lvh_pred_cutoff'] = (y_pred_svr >= df_test.Sex.apply(lambda x: 70 if x == 1 else 55)).astype(int).values"
   ]
  },
  {
   "cell_type": "code",
   "execution_count": null,
   "id": "08cb66f0-81d1-4713-9c19-b063cd255b35",
   "metadata": {},
   "outputs": [],
   "source": [
    "y_pred_svr_val = best_svm.predict(X_val)"
   ]
  },
  {
   "cell_type": "code",
   "execution_count": null,
   "id": "6e2df2b6-d134-4852-967a-3edad26323c4",
   "metadata": {},
   "outputs": [],
   "source": [
    "lr_clf = LogisticRegression(\n",
    "    class_weight=\"balanced\", max_iter=25000, random_state=20240302\n",
    ")\n",
    "lr_clf.fit(y_pred_svr_val.reshape(-1, 1), y_val_lvh)\n",
    "y_pred_svr_proba = lr_clf.predict_proba(y_pred_svr.reshape(-1, 1))"
   ]
  },
  {
   "cell_type": "code",
   "execution_count": null,
   "id": "0be64f06-c594-490e-b32f-a79d66b09079",
   "metadata": {},
   "outputs": [],
   "source": [
    "_ = print_classification_performance_summary(y_test_lvh, y_pred_svm_proba[:, 1] > 0.5, y_pred_svm_proba[:, 1])"
   ]
  },
  {
   "cell_type": "code",
   "execution_count": null,
   "id": "4f45a153-cb94-401c-8e62-b706b1b86916",
   "metadata": {},
   "outputs": [],
   "source": [
    "results['lvh_proba_lr'] = y_pred_svr_proba[:, 1]"
   ]
  },
  {
   "cell_type": "code",
   "execution_count": null,
   "id": "322145af-8525-431f-bb0e-5b1f88e081aa",
   "metadata": {},
   "outputs": [],
   "source": [
    "# Bayes-rule adjustment for prior in training set\n",
    "P_Y1 = np.mean(y_train_lvh)\n",
    "P_Y0 = 1 - P_Y1\n",
    "p_adjusted = (P_Y1 * y_pred_svr_proba[:, 1]) / (P_Y1 * y_pred_svr_proba[:, 1] + P_Y0 * (1 - y_pred_svr_proba[:, 1]))"
   ]
  },
  {
   "cell_type": "code",
   "execution_count": null,
   "id": "a6eae620-db2e-4e0c-8c56-35d7f40a06eb",
   "metadata": {},
   "outputs": [],
   "source": [
    "_ = print_classification_performance_summary(y_test_lvh, p_adjusted > 0.5, p_adjusted)"
   ]
  },
  {
   "cell_type": "code",
   "execution_count": null,
   "id": "2720f937-ba3e-4fad-89ea-31925da89f37",
   "metadata": {},
   "outputs": [],
   "source": [
    "results['lvh_proba_prioradj_lr'] = p_adjusted"
   ]
  },
  {
   "cell_type": "markdown",
   "id": "19bdc98f-8d07-4fce-8845-701716feb637",
   "metadata": {
    "tags": []
   },
   "source": [
    "# Benchmark (traditional ECG criteria)"
   ]
  },
  {
   "cell_type": "code",
   "execution_count": null,
   "id": "a5f2e4ca-04f8-43bb-810f-3d9a04a46254",
   "metadata": {},
   "outputs": [],
   "source": [
    "rule_cols = ['Pathological_Q_wave', 'Sokolov_Lyon', 'Cornell_voltage']\n",
    "df_test_rule = df[df['f.eid'].isin(TEST_FEIDS)][['LVM.group'] + rule_cols]"
   ]
  },
  {
   "cell_type": "code",
   "execution_count": null,
   "id": "573fab1f-bd31-4b31-a68c-160196d4e16c",
   "metadata": {},
   "outputs": [],
   "source": [
    "for col in rule_cols:\n",
    "    print(f\"> {col}\")\n",
    "    _ = print_classification_performance_summary(df_test_rule['LVM.group'], df_test_rule[col], df_test_rule[col])\n",
    "    print()"
   ]
  },
  {
   "cell_type": "code",
   "execution_count": null,
   "id": "92f6bf30-50eb-48ce-bfee-9f13817c1740",
   "metadata": {},
   "outputs": [],
   "source": [
    "for col in rule_cols:\n",
    "    results[f'lvh_pred_{col.lower()}'] = df_test_rule[col].values"
   ]
  },
  {
   "cell_type": "markdown",
   "id": "2b528904-17f0-46bf-984e-6aac4275ec2b",
   "metadata": {},
   "source": [
    "# Save"
   ]
  },
  {
   "cell_type": "code",
   "execution_count": null,
   "id": "7dc9e36b-ff65-4324-8f1a-4ecde5263d4c",
   "metadata": {},
   "outputs": [],
   "source": [
    "pd.DataFrame(results).to_csv('UKB_benchmarks.20250402.results.csv', index=False)"
   ]
  }
 ],
 "metadata": {
  "kernelspec": {
   "display_name": "ecg-lv",
   "language": "python",
   "name": "ecg-lv"
  },
  "language_info": {
   "codemirror_mode": {
    "name": "ipython",
    "version": 3
   },
   "file_extension": ".py",
   "mimetype": "text/x-python",
   "name": "python",
   "nbconvert_exporter": "python",
   "pygments_lexer": "ipython3",
   "version": "3.11.11"
  }
 },
 "nbformat": 4,
 "nbformat_minor": 5
}
